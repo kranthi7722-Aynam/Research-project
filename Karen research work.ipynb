{
 "cells": [
  {
   "cell_type": "code",
   "execution_count": 1,
   "metadata": {},
   "outputs": [],
   "source": [
    "import fitz # 1\n",
    "import os\n",
    "import csv"
   ]
  },
  {
   "cell_type": "code",
   "execution_count": 50,
   "metadata": {},
   "outputs": [],
   "source": [
    "# spreadsheet string of words\n",
    "# loop and do create all files in the same location."
   ]
  },
  {
   "cell_type": "code",
   "execution_count": 2,
   "metadata": {},
   "outputs": [],
   "source": [
    "# write report to csv. #2\n",
    "def write_csv_summary(file_path, data):\n",
    "    with open(file_path, 'w', encoding=\"UTF-8\") as f:\n",
    "        writer = csv.DictWriter(f, fieldnames=list(data[0].keys()))\n",
    "        writer.writeheader()\n",
    "        for item in data:\n",
    "            writer.writerow(item)\n",
    "        print(\"Wrote summary to: \", file_path)"
   ]
  },
  {
   "cell_type": "code",
   "execution_count": 52,
   "metadata": {},
   "outputs": [],
   "source": [
    "# walk through directories and sub-directories."
   ]
  },
  {
   "cell_type": "code",
   "execution_count": 3,
   "metadata": {},
   "outputs": [],
   "source": [
    "def walk_dir(dir_): #3\n",
    "    for root_, sub_dir, files in os.walk(dir_):\n",
    "        for file in files:\n",
    "                yield (root_, file)"
   ]
  },
  {
   "cell_type": "code",
   "execution_count": 4,
   "metadata": {},
   "outputs": [],
   "source": [
    "def highlight_word2(dir_, file_name, new_dir, words): # 4\n",
    "    page_nos = set()\n",
    "    if not os.path.isdir(new_dir):\n",
    "        os.makedirs(new_dir) # Makes a directory.\n",
    "    file_path = dir_ + \"\\\\\" + file_name # File path.\n",
    "    if not os.path.isfile(file_path) or not file_path.endswith('.pdf') or file_name.startswith('._'):\n",
    "        return []\n",
    "    pdfReader = fitz.open(file_path) # Create a pdf reader object.\n",
    "    for i in range(0,pdfReader.pageCount):\n",
    "        text_instances = []\n",
    "        p1 = pdfReader.loadPage(i)\n",
    "        for word in words:\n",
    "            text_instances.extend(p1.searchFor(word))\n",
    "        for inst in text_instances:\n",
    "            p1.addHighlightAnnot(inst)\n",
    "            page_nos.add(i)\n",
    "    if pdfReader.pageCount < 1:\n",
    "        return []\n",
    "    pdfReader.save(new_dir + '\\\\' + file_name) # Saves a new pdf reader file.\n",
    "    #print(word, \"Higlited file: \", new_dir + '\\\\' + file_name)\n",
    "    return [{'file_path':new_dir + '\\\\' + file_name, 'file_name':file_name, 'page_no':page_no, 'word':word} for page_no in page_nos]    "
   ]
  },
  {
   "cell_type": "code",
   "execution_count": 5,
   "metadata": {},
   "outputs": [],
   "source": [
    "def highlight_get_csv(dir_, words): # 5\n",
    "    new_dir = ''.join(dir_.rpartition('\\\\')[:2]) + dir_.rpartition('\\\\')[-1]+'_modified' # Creates new dir path name.\n",
    "    data = []\n",
    "    for sub_dir, file_ in walk_dir(dir_):\n",
    "            data.extend(highlight_word2(sub_dir, file_, new_dir=sub_dir.replace(dir_, new_dir), words=words))\n",
    "    return data"
   ]
  },
  {
   "cell_type": "code",
   "execution_count": 7,
   "metadata": {},
   "outputs": [
    {
     "ename": "ValueError",
     "evalue": "illegal newline value:  ",
     "output_type": "error",
     "traceback": [
      "\u001b[1;31m---------------------------------------------------------------------------\u001b[0m",
      "\u001b[1;31mValueError\u001b[0m                                Traceback (most recent call last)",
      "\u001b[1;32m<ipython-input-7-93223b16e75a>\u001b[0m in \u001b[0;36m<module>\u001b[1;34m()\u001b[0m\n\u001b[0;32m      3\u001b[0m \u001b[0mwords\u001b[0m \u001b[1;33m=\u001b[0m \u001b[1;33m[\u001b[0m\u001b[1;34m'saving'\u001b[0m\u001b[1;33m,\u001b[0m \u001b[1;34m'the'\u001b[0m\u001b[1;33m,\u001b[0m\u001b[1;34m'in'\u001b[0m\u001b[1;33m,\u001b[0m\u001b[1;34m'account'\u001b[0m\u001b[1;33m,\u001b[0m\u001b[1;34m'invest'\u001b[0m\u001b[1;33m]\u001b[0m\u001b[1;33m\u001b[0m\u001b[0m\n\u001b[0;32m      4\u001b[0m \u001b[0mrecords\u001b[0m \u001b[1;33m=\u001b[0m \u001b[0mhighlight_get_csv\u001b[0m\u001b[1;33m(\u001b[0m\u001b[0mdir_\u001b[0m\u001b[1;33m,\u001b[0m \u001b[0mwords\u001b[0m\u001b[1;33m)\u001b[0m\u001b[1;33m\u001b[0m\u001b[0m\n\u001b[1;32m----> 5\u001b[1;33m \u001b[0mwrite_csv_summary\u001b[0m\u001b[1;33m(\u001b[0m\u001b[0mout_dir\u001b[0m \u001b[1;33m+\u001b[0m\u001b[1;34m'\\\\'\u001b[0m \u001b[1;33m+\u001b[0m \u001b[1;34m'summary.csv'\u001b[0m \u001b[1;33m,\u001b[0m\u001b[0mrecords\u001b[0m\u001b[1;33m)\u001b[0m \u001b[1;31m# 6\u001b[0m\u001b[1;33m\u001b[0m\u001b[0m\n\u001b[0m",
      "\u001b[1;32m<ipython-input-2-d7b3e0d39156>\u001b[0m in \u001b[0;36mwrite_csv_summary\u001b[1;34m(file_path, data)\u001b[0m\n\u001b[0;32m      1\u001b[0m \u001b[1;31m# write report to csv. #2\u001b[0m\u001b[1;33m\u001b[0m\u001b[1;33m\u001b[0m\u001b[0m\n\u001b[0;32m      2\u001b[0m \u001b[1;32mdef\u001b[0m \u001b[0mwrite_csv_summary\u001b[0m\u001b[1;33m(\u001b[0m\u001b[0mfile_path\u001b[0m\u001b[1;33m,\u001b[0m \u001b[0mdata\u001b[0m\u001b[1;33m)\u001b[0m\u001b[1;33m:\u001b[0m\u001b[1;33m\u001b[0m\u001b[0m\n\u001b[1;32m----> 3\u001b[1;33m     \u001b[1;32mwith\u001b[0m \u001b[0mopen\u001b[0m\u001b[1;33m(\u001b[0m\u001b[0mfile_path\u001b[0m\u001b[1;33m,\u001b[0m \u001b[1;34m'w'\u001b[0m\u001b[1;33m,\u001b[0m \u001b[0mencoding\u001b[0m\u001b[1;33m=\u001b[0m\u001b[1;34m\"UTF-8\"\u001b[0m\u001b[1;33m,\u001b[0m \u001b[0mnewline\u001b[0m\u001b[1;33m=\u001b[0m\u001b[1;34m' '\u001b[0m\u001b[1;33m)\u001b[0m \u001b[1;32mas\u001b[0m \u001b[0mf\u001b[0m\u001b[1;33m:\u001b[0m\u001b[1;33m\u001b[0m\u001b[0m\n\u001b[0m\u001b[0;32m      4\u001b[0m         \u001b[0mwriter\u001b[0m \u001b[1;33m=\u001b[0m \u001b[0mcsv\u001b[0m\u001b[1;33m.\u001b[0m\u001b[0mDictWriter\u001b[0m\u001b[1;33m(\u001b[0m\u001b[0mf\u001b[0m\u001b[1;33m,\u001b[0m \u001b[0mfieldnames\u001b[0m\u001b[1;33m=\u001b[0m\u001b[0mlist\u001b[0m\u001b[1;33m(\u001b[0m\u001b[0mdata\u001b[0m\u001b[1;33m[\u001b[0m\u001b[1;36m0\u001b[0m\u001b[1;33m]\u001b[0m\u001b[1;33m.\u001b[0m\u001b[0mkeys\u001b[0m\u001b[1;33m(\u001b[0m\u001b[1;33m)\u001b[0m\u001b[1;33m)\u001b[0m\u001b[1;33m)\u001b[0m\u001b[1;33m\u001b[0m\u001b[0m\n\u001b[0;32m      5\u001b[0m         \u001b[0mwriter\u001b[0m\u001b[1;33m.\u001b[0m\u001b[0mwriteheader\u001b[0m\u001b[1;33m(\u001b[0m\u001b[1;33m)\u001b[0m\u001b[1;33m\u001b[0m\u001b[0m\n",
      "\u001b[1;31mValueError\u001b[0m: illegal newline value:  "
     ]
    }
   ],
   "source": [
    "dir_ = r\"D:\\A\"\n",
    "out_dir = r\"D:\\A\"\n",
    "words = ['saving', 'the','in','account','invest']\n",
    "records = highlight_get_csv(dir_, words)\n",
    "write_csv_summary(out_dir +'\\\\' + 'summary.csv' ,records) # 6"
   ]
  },
  {
   "cell_type": "code",
   "execution_count": null,
   "metadata": {},
   "outputs": [],
   "source": []
  },
  {
   "cell_type": "code",
   "execution_count": 54,
   "metadata": {},
   "outputs": [],
   "source": [
    "\n",
    "        "
   ]
  },
  {
   "cell_type": "code",
   "execution_count": null,
   "metadata": {},
   "outputs": [],
   "source": []
  }
 ],
 "metadata": {
  "kernelspec": {
   "display_name": "Python 3",
   "language": "python",
   "name": "python3"
  },
  "language_info": {
   "codemirror_mode": {
    "name": "ipython",
    "version": 3
   },
   "file_extension": ".py",
   "mimetype": "text/x-python",
   "name": "python",
   "nbconvert_exporter": "python",
   "pygments_lexer": "ipython3",
   "version": "3.7.0"
  }
 },
 "nbformat": 4,
 "nbformat_minor": 2
}
